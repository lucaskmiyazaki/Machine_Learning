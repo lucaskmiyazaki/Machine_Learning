{
  "nbformat": 4,
  "nbformat_minor": 0,
  "metadata": {
    "colab": {
      "name": "wildfires.ipynb",
      "provenance": [],
      "authorship_tag": "ABX9TyOGN8D6D0d85bv71hS8JwBj",
      "include_colab_link": true
    },
    "kernelspec": {
      "name": "python3",
      "display_name": "Python 3"
    }
  },
  "cells": [
    {
      "cell_type": "markdown",
      "metadata": {
        "id": "view-in-github",
        "colab_type": "text"
      },
      "source": [
        "<a href=\"https://colab.research.google.com/github/lucaskmiyazaki/Machine_Learning/blob/master/wildfires.ipynb\" target=\"_parent\"><img src=\"https://colab.research.google.com/assets/colab-badge.svg\" alt=\"Open In Colab\"/></a>"
      ]
    },
    {
      "cell_type": "code",
      "metadata": {
        "id": "oGMAM_dfH3J1",
        "colab_type": "code",
        "outputId": "0ff31645-3c2f-48f5-a605-5794972f2159",
        "colab": {
          "base_uri": "https://localhost:8080/",
          "height": 34
        }
      },
      "source": [
        "from google.colab import drive\n",
        "drive.mount('/content/drive')"
      ],
      "execution_count": 0,
      "outputs": [
        {
          "output_type": "stream",
          "text": [
            "Drive already mounted at /content/drive; to attempt to forcibly remount, call drive.mount(\"/content/drive\", force_remount=True).\n"
          ],
          "name": "stdout"
        }
      ]
    },
    {
      "cell_type": "code",
      "metadata": {
        "id": "QnkLZJCqJScz",
        "colab_type": "code",
        "colab": {}
      },
      "source": [
        "import pandas as pd\n",
        "import matplotlib.pyplot as plt\n",
        "import numpy as np\n",
        "import seaborn as sns\n",
        "%matplotlib inline"
      ],
      "execution_count": 0,
      "outputs": []
    },
    {
      "cell_type": "code",
      "metadata": {
        "id": "iwOGjZ6QI7U7",
        "colab_type": "code",
        "colab": {}
      },
      "source": [
        "path = \"/content/drive/My Drive/carreira/hackaton/data/database_fires.csv\"\n",
        "df = pd.read_csv(path)"
      ],
      "execution_count": 0,
      "outputs": []
    },
    {
      "cell_type": "code",
      "metadata": {
        "id": "Jgxmz_cLlN4p",
        "colab_type": "code",
        "colab": {}
      },
      "source": [
        "path = \"/content/drive/My Drive/carreira/hackaton/data/respostas.csv\"\n",
        "resp = pd.read_csv(path)"
      ],
      "execution_count": 0,
      "outputs": []
    },
    {
      "cell_type": "code",
      "metadata": {
        "id": "9RaezmajJnl3",
        "colab_type": "code",
        "outputId": "1e49340c-bf60-4d7b-8473-a8fd19b64aae",
        "colab": {
          "base_uri": "https://localhost:8080/",
          "height": 85
        }
      },
      "source": [
        "print(df.columns)"
      ],
      "execution_count": 0,
      "outputs": [
        {
          "output_type": "stream",
          "text": [
            "Index(['id', 'estado', 'estacao', 'data', 'precipitacao', 'temp_max',\n",
            "       'temp_min', 'insolacao', 'evaporacao_piche', 'temp_comp_med',\n",
            "       'umidade_rel_med', 'vel_vento_med', 'altitude', 'fires'],\n",
            "      dtype='object')\n"
          ],
          "name": "stdout"
        }
      ]
    },
    {
      "cell_type": "code",
      "metadata": {
        "id": "9byAr9VvMlVk",
        "colab_type": "code",
        "outputId": "0bd4029e-0592-4109-9c60-47f1316ddcac",
        "colab": {
          "base_uri": "https://localhost:8080/",
          "height": 221
        }
      },
      "source": [
        "print(df.insolacao)"
      ],
      "execution_count": 0,
      "outputs": [
        {
          "output_type": "stream",
          "text": [
            "0         2.3\n",
            "1         4.4\n",
            "2         0.6\n",
            "3         2.0\n",
            "4         0.1\n",
            "         ... \n",
            "251762    9.0\n",
            "251763    8.6\n",
            "251764    6.9\n",
            "251765    7.9\n",
            "251766    9.9\n",
            "Name: insolacao, Length: 251767, dtype: float64\n"
          ],
          "name": "stdout"
        }
      ]
    },
    {
      "cell_type": "code",
      "metadata": {
        "id": "JCxwyHr0Rs9j",
        "colab_type": "code",
        "outputId": "0773a2c7-245c-4286-e79a-9c50bdfe7240",
        "colab": {
          "base_uri": "https://localhost:8080/",
          "height": 153
        }
      },
      "source": [
        "date = pd.to_datetime(df.data)\n",
        "df[\"ano\"] = pd.DatetimeIndex(date).year\n",
        "df[\"mes\"] = pd.DatetimeIndex(date).month \n",
        "df.drop([\"data\"], axis = 1, inplace = True)\n",
        "print(df.columns)\n",
        "\n",
        "date = pd.to_datetime(resp.data)\n",
        "resp[\"ano\"] = pd.DatetimeIndex(date).year\n",
        "resp[\"mes\"] = pd.DatetimeIndex(date).month \n",
        "resp.drop([\"data\"], axis = 1, inplace = True)\n",
        "print(resp.columns)"
      ],
      "execution_count": 0,
      "outputs": [
        {
          "output_type": "stream",
          "text": [
            "Index(['id', 'estado', 'estacao', 'precipitacao', 'temp_max', 'temp_min',\n",
            "       'insolacao', 'evaporacao_piche', 'temp_comp_med', 'umidade_rel_med',\n",
            "       'vel_vento_med', 'altitude', 'fires', 'ano', 'mes'],\n",
            "      dtype='object')\n",
            "Index(['id', 'estado', 'estacao', 'precipitacao', 'temp_max', 'temp_min',\n",
            "       'insolacao', 'evaporacao_piche', 'temp_comp_med', 'umidade_rel_med',\n",
            "       'vel_vento_med', 'altitude', 'ano', 'mes'],\n",
            "      dtype='object')\n"
          ],
          "name": "stdout"
        }
      ]
    },
    {
      "cell_type": "code",
      "metadata": {
        "id": "Scz1HFRNKz5c",
        "colab_type": "code",
        "outputId": "d4a58597-73ec-436b-c316-2f7d775311d5",
        "colab": {
          "base_uri": "https://localhost:8080/",
          "height": 544
        }
      },
      "source": [
        "state, code_state = pd.factorize(df.estado)\n",
        "month, code_month = pd.factorize(df.mes)\n",
        "print(code_state, code_month)\n",
        "heatMap = pd.DataFrame(index = code_state, columns=code_month)\n",
        "#heatMap.columns = code_month\n",
        "#heatMap.index = code_month\n",
        "for i in range(len(code_month)):\n",
        "  for j in range(len(code_state)):\n",
        "    #print(\"o\")\n",
        "    heatMap[code_month[i]][code_state[j]] = 0\n",
        "\n",
        "for i in range(len(df)):\n",
        "  if df.fires[i] == 1:\n",
        "    heatMap[df.mes[i]][df.estado[i]] += 1\n",
        "\n",
        "print(heatMap)"
      ],
      "execution_count": 0,
      "outputs": [
        {
          "output_type": "stream",
          "text": [
            "Index(['AC', 'AL', 'AM', 'AP', 'BA', 'CE', 'DF', 'ES', 'GO', 'MA', 'MG', 'MS',\n",
            "       'MT', 'PA', 'PB', 'PE', 'PI', 'PR', 'RJ', 'RN', 'RR', 'RS', 'SC', 'SE',\n",
            "       'SP', 'TO'],\n",
            "      dtype='object') Int64Index([1, 2, 3, 4, 5, 6, 7, 8, 9, 10, 11, 12], dtype='int64')\n",
            "     1    2    3    4    5    6     7     8     9     10   11   12\n",
            "AC   23   18   14   17   20   53    88    96    90    47   22   16\n",
            "AL  141  100  119   86   67   64    44    73    84   152  120  135\n",
            "AM   93   86   65   74   62   77   187   253   195   146   95   59\n",
            "AP    8    2    6   10    6    5     4    18    26    33   26    9\n",
            "BA  385  423  504  408  355  325   368   560   689   698  407  321\n",
            "CE  195  117  131  130  157  193   219   333   411   482  457  340\n",
            "DF   26   21   30   32   50   59    97    75    74    63   26   25\n",
            "ES  101   96  102   87   76   96    77    89    79    73   51   75\n",
            "GO  192  191  267  227  240  319   431   486   472   314  197  225\n",
            "MA  262  212  236  284  358  463   473   608   614   574  507  368\n",
            "MG  539  461  605  566  599  757  1129  1291  1403  1049  533  588\n",
            "MS   62   36   39   42   45   49    77    85    90    57   51   40\n",
            "MT  188  164  247  254  252  278   364   396   365   288  191  168\n",
            "PA  288  191  176  207  228  292   453   562   561   616  612  291\n",
            "PB  181   90   75   55   72   60    86   151   188   253  273  234\n",
            "PE  179  117  105  105  121  106   122   176   205   274  247  201\n",
            "PI  189  147  141  151  239  267   332   396   408   488  374  270\n",
            "PR  144  103   99  201  142  174   292   227   272   129  166  134\n",
            "RJ  158  134  157  167  161  175   220   252   240   162  123  157\n",
            "RN  110   64   71   64   61   64    75   117   146   153  167  143\n",
            "RR  109  100  136   82   49   25    22    37    50    66   68   61\n",
            "RS  195  143  154  132  121  183   329   352   254   154  174  147\n",
            "SC   78   43   42   47   29   62   116    88   109    50   52   39\n",
            "SE  148   96  100   59   51   31    35    50    59    83   92   97\n",
            "SP  206  201  242  229  199  293   400   351   388   208  200  211\n",
            "TO  156  183  215  266  314  335   331   383   373   342  218  184\n"
          ],
          "name": "stdout"
        }
      ]
    },
    {
      "cell_type": "code",
      "metadata": {
        "id": "MAx_IrL9Oqga",
        "colab_type": "code",
        "outputId": "23ca0b95-467a-409b-8ddb-05bc9fcbaeeb",
        "colab": {
          "base_uri": "https://localhost:8080/",
          "height": 221
        }
      },
      "source": [
        "df = pd.concat([df, pd.get_dummies(df.estado)], axis = 1)\n",
        "df.drop([\"estado\"], axis = 1, inplace = True)\n",
        "print(df.columns)\n",
        "\n",
        "resp = pd.concat([resp, pd.get_dummies(resp.estado)], axis = 1)\n",
        "#print(resp.columns)\n",
        "resp.drop([\"estado\"], axis = 1, inplace = True)\n",
        "print(resp.columns)"
      ],
      "execution_count": 0,
      "outputs": [
        {
          "output_type": "stream",
          "text": [
            "Index(['id', 'estacao', 'precipitacao', 'temp_max', 'temp_min', 'insolacao',\n",
            "       'evaporacao_piche', 'temp_comp_med', 'umidade_rel_med', 'vel_vento_med',\n",
            "       'altitude', 'fires', 'ano', 'mes', 'AC', 'AL', 'AM', 'AP', 'BA', 'CE',\n",
            "       'DF', 'ES', 'GO', 'MA', 'MG', 'MS', 'MT', 'PA', 'PB', 'PE', 'PI', 'PR',\n",
            "       'RJ', 'RN', 'RR', 'RS', 'SC', 'SE', 'SP', 'TO'],\n",
            "      dtype='object')\n",
            "Index(['id', 'estacao', 'precipitacao', 'temp_max', 'temp_min', 'insolacao',\n",
            "       'evaporacao_piche', 'temp_comp_med', 'umidade_rel_med', 'vel_vento_med',\n",
            "       'altitude', 'ano', 'mes', 'AC', 'AL', 'AM', 'AP', 'BA', 'CE', 'DF',\n",
            "       'ES', 'GO', 'MA', 'MG', 'MS', 'MT', 'PA', 'PB', 'PE', 'PI', 'PR', 'RJ',\n",
            "       'RN', 'RR', 'RS', 'SC', 'SE', 'SP', 'TO'],\n",
            "      dtype='object')\n"
          ],
          "name": "stdout"
        }
      ]
    },
    {
      "cell_type": "code",
      "metadata": {
        "id": "Pb8940ASo8hZ",
        "colab_type": "code",
        "outputId": "46431152-661f-4d09-afef-a5ea86259d14",
        "colab": {
          "base_uri": "https://localhost:8080/",
          "height": 282
        }
      },
      "source": [
        "df[df.vel_vento_med.isna()]\n",
        "plt.plot(df.precipitacao[1: 1000])\n",
        "df.precipitacao.median()"
      ],
      "execution_count": 0,
      "outputs": [
        {
          "output_type": "execute_result",
          "data": {
            "text/plain": [
              "0.0"
            ]
          },
          "metadata": {
            "tags": []
          },
          "execution_count": 130
        },
        {
          "output_type": "display_data",
          "data": {
            "image/png": "[encoded data removed]",
            "text/plain": [
              "<Figure size 432x288 with 1 Axes>"
            ]
          },
          "metadata": {
            "tags": []
          }
        }
      ]
    },
    {
      "cell_type": "code",
      "metadata": {
        "id": "xUjWArrdr0fz",
        "colab_type": "code",
        "colab": {}
      },
      "source": [
        "# para completar os valores falltantes usarei:\n",
        "# mediana para temperaturas\n",
        "# media para precipitacao, insolacao, evaporacao, umidade, velocidade do vento\n",
        "# se tivesse algum parametro categorico seria moda\n",
        "df.precipitacao = df.precipitacao.fillna(df.precipitacao.mean())\n",
        "df.insolacao = df.insolacao.fillna(df.insolacao.mean())\n",
        "df.evaporacao_piche = df.evaporacao_piche.fillna(df.evaporacao_piche.mean())\n",
        "df.umidade_rel_med = df.umidade_rel_med.fillna(df.umidade_rel_med.mean())\n",
        "df.vel_vento_med = df.vel_vento_med.fillna(df.vel_vento_med.mean())\n",
        "df.temp_comp_med = df.temp_comp_med.fillna(df.temp_comp_med.mean())\n",
        "df.temp_max = df.temp_max.fillna(df.temp_max.mean())\n",
        "df.temp_min = df.temp_min.fillna(df.temp_min.mean())\n",
        "df[df.precipitacao.isna()]\n",
        "\n",
        "resp.precipitacao = resp.precipitacao.fillna(resp.precipitacao.mean())\n",
        "resp.insolacao = resp.insolacao.fillna(resp.insolacao.mean())\n",
        "resp.evaporacao_piche = resp.evaporacao_piche.fillna(resp.evaporacao_piche.mean())\n",
        "resp.umidade_rel_med = resp.umidade_rel_med.fillna(resp.umidade_rel_med.mean())\n",
        "resp.vel_vento_med = resp.vel_vento_med.fillna(resp.vel_vento_med.mean())\n",
        "resp.temp_comp_med = resp.temp_comp_med.fillna(resp.temp_comp_med.mean())\n",
        "resp.temp_max = resp.temp_max.fillna(resp.temp_max.mean())\n",
        "resp.temp_min = resp.temp_min.fillna(resp.temp_min.mean())"
      ],
      "execution_count": 0,
      "outputs": []
    },
    {
      "cell_type": "code",
      "metadata": {
        "id": "RImQgQOGWdzw",
        "colab_type": "code",
        "outputId": "9347c284-9b1b-498f-dc7e-f0076cf59b68",
        "colab": {
          "base_uri": "https://localhost:8080/",
          "height": 34
        }
      },
      "source": [
        "correlation_matrix = np.corrcoef(df.id, df.temp_max)\n",
        "correlation_xy = correlation_matrix[0,1]\n",
        "r_squared = correlation_xy**2\n",
        "\n",
        "print(r_squared)\n"
      ],
      "execution_count": 0,
      "outputs": [
        {
          "output_type": "stream",
          "text": [
            "0.04635303363374657\n"
          ],
          "name": "stdout"
        }
      ]
    },
    {
      "cell_type": "code",
      "metadata": {
        "id": "seColDvOHDko",
        "colab_type": "code",
        "outputId": "3f98823a-2486-465f-f8ac-f9db7dc91100",
        "colab": {
          "base_uri": "https://localhost:8080/",
          "height": 119
        }
      },
      "source": [
        "import sklearn as skl\n",
        "from sklearn import svm\n",
        "y = df.fires\n",
        "X = df.drop(\"id\", axis = 1)\n",
        "X = X.drop(\"estacao\", axis = 1)\n",
        "X = X.drop(\"fires\", axis = 1)\n",
        "\n",
        "resp_id = resp.id\n",
        "\n",
        "X_resp = resp.drop(\"id\", axis = 1)\n",
        "X_resp = X_resp.drop(\"estacao\", axis = 1)\n",
        "print(X_resp.columns)"
      ],
      "execution_count": 0,
      "outputs": [
        {
          "output_type": "stream",
          "text": [
            "Index(['precipitacao', 'temp_max', 'temp_min', 'insolacao', 'evaporacao_piche',\n",
            "       'temp_comp_med', 'umidade_rel_med', 'vel_vento_med', 'altitude', 'ano',\n",
            "       'mes', 'AC', 'AL', 'AM', 'AP', 'BA', 'CE', 'DF', 'ES', 'GO', 'MA', 'MG',\n",
            "       'MS', 'MT', 'PA', 'PB', 'PE', 'PI', 'PR', 'RJ', 'RN', 'RR', 'RS', 'SC',\n",
            "       'SE', 'SP', 'TO'],\n",
            "      dtype='object')\n"
          ],
          "name": "stdout"
        }
      ]
    },
    {
      "cell_type": "code",
      "metadata": {
        "id": "-msfiA5NtDrh",
        "colab_type": "code",
        "colab": {}
      },
      "source": [
        "#from sklearn import preprocessing\n",
        "#scaler = preprocessing.MinMaxScaler()\n",
        "# Fit your data on the scaler object\n",
        "\n",
        "#scaled_X = scaler.fit_transform(X)\n",
        "#scaled_X = pd.DataFrame(scaled_X, columns = X.columns)\n",
        "#scaled_X_resp = scaler.fit_transform(X_resp)\n",
        "#scaled_X_resp = pd.DataFrame(scaled_X_resp, columns = X_resp.columns)"
      ],
      "execution_count": 0,
      "outputs": []
    },
    {
      "cell_type": "code",
      "metadata": {
        "id": "CUAoOLbNIEv2",
        "colab_type": "code",
        "outputId": "ff3f46a9-a791-4998-bddb-d25ad2a6099d",
        "colab": {
          "base_uri": "https://localhost:8080/",
          "height": 221
        }
      },
      "source": [
        "print(y)"
      ],
      "execution_count": 0,
      "outputs": [
        {
          "output_type": "stream",
          "text": [
            "0         0\n",
            "1         0\n",
            "2         0\n",
            "3         0\n",
            "4         0\n",
            "         ..\n",
            "251762    0\n",
            "251763    0\n",
            "251764    0\n",
            "251765    0\n",
            "251766    0\n",
            "Name: fires, Length: 251767, dtype: int64\n"
          ],
          "name": "stdout"
        }
      ]
    },
    {
      "cell_type": "code",
      "metadata": {
        "id": "EBcg2EPbJsaG",
        "colab_type": "code",
        "colab": {}
      },
      "source": [
        "X_train = scaled_X[:200000]\n",
        "y_train = y[:200000]\n",
        "X_test = scaled_X[200000:]\n",
        "y_test = y[200000:]"
      ],
      "execution_count": 0,
      "outputs": []
    },
    {
      "cell_type": "code",
      "metadata": {
        "id": "ajh1XABgKXFN",
        "colab_type": "code",
        "outputId": "cf28880a-d206-4f4e-bb5d-a98680fb00fa",
        "colab": {
          "base_uri": "https://localhost:8080/",
          "height": 85
        }
      },
      "source": [
        "#from sklearn.ensemble import RandomForestClassifier\n",
        "#lin = RandomForestClassifier(max_depth=2, random_state=0)\n",
        "#lin = svm.LinearSVC()\n",
        "from sklearn.neighbors import KNeighborsClassifier\n",
        "lin = KNeighborsClassifier(n_neighbors=3)\n",
        "lin.fit(X_train, y_train)\n",
        "y_pred = lin.predict(X_test)\n",
        "\n",
        "skl.metrics.confusion_matrix(y_test, y_pred)\n",
        "print(\"number of falses:\", y[y == 0].size, \"\\n\")\n",
        "print(\"number of true:\", y[y == 1].size, \"\\n\")"
      ],
      "execution_count": 0,
      "outputs": [
        {
          "output_type": "stream",
          "text": [
            "number of falses: 188271 \n",
            "\n",
            "number of true: 63496 \n",
            "\n"
          ],
          "name": "stdout"
        }
      ]
    },
    {
      "cell_type": "code",
      "metadata": {
        "id": "YEeGx_yfLFtW",
        "colab_type": "code",
        "outputId": "036d693c-46ba-493b-8812-03c7650ea3ae",
        "colab": {
          "base_uri": "https://localhost:8080/",
          "height": 51
        }
      },
      "source": [
        "print(skl.metrics.confusion_matrix(y_test, y_pred))"
      ],
      "execution_count": 0,
      "outputs": [
        {
          "output_type": "stream",
          "text": [
            "[[32190  6808]\n",
            " [ 7845  4924]]\n"
          ],
          "name": "stdout"
        }
      ]
    },
    {
      "cell_type": "code",
      "metadata": {
        "id": "MVIlTeARmIhj",
        "colab_type": "code",
        "colab": {}
      },
      "source": [
        "y_resp = lin.predict(scaled_X_resp)"
      ],
      "execution_count": 0,
      "outputs": []
    },
    {
      "cell_type": "code",
      "metadata": {
        "id": "yKYlcsvjqfzQ",
        "colab_type": "code",
        "outputId": "e074390e-2307-446a-b4fc-6f530fb49bde",
        "colab": {
          "base_uri": "https://localhost:8080/",
          "height": 272
        }
      },
      "source": [
        "#print(resp_id)\n",
        "# = {'id' : resp_id, 'fires' : y_resp}\n",
        "resp_df = pd.DataFrame(columns= {'id', 'fires'})\n",
        "print(len(resp_id), len(y_resp))\n",
        "resp_df['id'] = resp_id\n",
        "resp_df['fires'] = y_resp\n",
        "#resp_id = pd.concat([resp_id, y_resp], axis=1 )\n",
        "print(resp_df)"
      ],
      "execution_count": 0,
      "outputs": [
        {
          "output_type": "stream",
          "text": [
            "44342 44342\n",
            "           id  fires\n",
            "0      251768      0\n",
            "1      251769      0\n",
            "2      251770      0\n",
            "3      251771      0\n",
            "4      251772      0\n",
            "...       ...    ...\n",
            "44337  296105      0\n",
            "44338  296106      0\n",
            "44339  296107      0\n",
            "44340  296108      0\n",
            "44341  296109      0\n",
            "\n",
            "[44342 rows x 2 columns]\n"
          ],
          "name": "stdout"
        }
      ]
    },
    {
      "cell_type": "code",
      "metadata": {
        "id": "D_xspzYXoLmc",
        "colab_type": "code",
        "colab": {}
      },
      "source": [
        "resp_df.to_csv(\"/content/drive/My Drive/carreira/hackaton/data/dados.csv\", index = False)"
      ],
      "execution_count": 0,
      "outputs": []
    }
  ]
}